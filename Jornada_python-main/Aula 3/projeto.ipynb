{
 "cells": [
  {
   "cell_type": "markdown",
   "metadata": {},
   "source": [
    "# Projeto Python IA: Inteligência Artificial e Previsões\n",
    "\n",
    "### Case: Score de Crédito dos Clientes\n",
    "\n",
    "Você foi contratado por um banco para conseguir definir o score de crédito dos clientes. Você precisa analisar todos os clientes do banco e, com base nessa análise, criar um modelo que consiga ler as informações do cliente e dizer automaticamente o score de crédito dele: Ruim, Ok, Bom\n",
    "\n",
    "Arquivos da aula: https://drive.google.com/drive/folders/1FbDqVq4XLvU85VBlVIMJ73p9oOu6u2-J?usp=drive_link"
   ]
  },
  {
   "cell_type": "code",
   "execution_count": null,
   "metadata": {},
   "outputs": [],
   "source": [
    "#Passo a passo\n",
    "\n",
    "# PASSO 0 - entender o desafio e a empresa e necessidade da acertividade\n",
    "\n",
    "# PASSO 1 - Preparar a base de dados\n",
    "\n",
    "# PASSO 2 - Preparar a DB para a IA\n",
    "\n",
    "# PASSO 3 - Criar modelo de IA -> Nota/Score - Bom, ok, ruim\n",
    "\n",
    "# PASSO 4 - Avaliar qual o melhor modelo de IA\n",
    "\n",
    "# PASSO 5 - Fazer novas previsões\n",
    "\n",
    "# pacotes de códigos - libs\n",
    "\n",
    "# Necessário instalar pandas e scikit-learn\n",
    "\n",
    "#!pip install pandas scikit-learn"
   ]
  },
  {
   "cell_type": "code",
   "execution_count": null,
   "metadata": {},
   "outputs": [],
   "source": [
    "# PASSO 1\n",
    "\n",
    "import pandas as pd\n",
    "#import sklearn\n",
    "from sklearn.preprocessing import LabelEncoder as labEnc\n",
    "from sklearn.model_selection import train_test_split\n",
    "from sklearn.ensemble import RandomForestClassifier\n",
    "# RandomForestRegressor utilizado para previsões,\n",
    "# RandomForestClassifier utilizado para classificar com base dos dados\n",
    "from sklearn.neighbors import KNeighborsClassifier\n",
    "from sklearn.metrics import accuracy_score\n",
    "\n",
    "tabela = pd.read_csv(\"auxiliares/clientes.csv\")\n",
    "display(tabela)"
   ]
  },
  {
   "cell_type": "code",
   "execution_count": null,
   "metadata": {},
   "outputs": [],
   "source": [
    "# PASSO 2\n",
    "\n",
    "# PARA COLUNAS EM FORMATO DE TEXTO, É NECESSÁRIO FAZER UMA TRANSCRIÇÃO PARA NÚMEROS\n",
    "# TODA IA ENTENDE POR NÚMEROS, quando é passado texto, a ia traduz.\n",
    "# retorno pode ser dado em texto\n",
    "\n",
    "# transformar - profissao, mix_credito & comportamento_pagamento\n",
    "\n",
    "# Score - Good(bom), Standard(ok), Poor(ruim)\n",
    "# a leitura da tabela é o treinamento da IA.\n",
    "\n",
    "# profissao - mecanico, professor, artista,...\n",
    "# label encoder - atribui um nr para cada tipo\n",
    "\n",
    "# porque criar 3 codificadores?\n",
    "# para armazenar os valores atribuídos na variável criada para o codificador\n",
    "# Para mais à frente ler estes dados\n",
    "# fit = treinar\n",
    "cod1  = labEnc()\n",
    "tabela[\"profissao\"] = cod1.fit_transform(tabela[\"profissao\"])\n",
    "\n",
    "cod2 = labEnc()\n",
    "tabela[\"mix_credito\"] = cod2.fit_transform(tabela[\"mix_credito\"])\n",
    "\n",
    "cod3 = labEnc()\n",
    "tabela[\"comportamento_pagamento\"] = cod3.fit_transform(tabela[\"comportamento_pagamento\"])\n",
    "\n",
    "display(tabela)\n"
   ]
  },
  {
   "cell_type": "code",
   "execution_count": null,
   "metadata": {},
   "outputs": [],
   "source": [
    "# PASSO 3.1 - preparar a IA\n",
    "\n",
    "# Necessário identificar qual coluna se quer prever e quais dados serão analisados\n",
    "# y será quem se quer prever, x são os valores necessários\n",
    "y = tabela[\"score_credito\"]\n",
    "x = tabela.drop(columns=[\"score_credito\", \"id_cliente\"])\n",
    "\n",
    "# QUANTO MAIS COLUNAS, MAIS DADOS DE TREINO SÃO NECESSÁRIOS.\n",
    "\n",
    "# x_treino, x_teste, y_treino, y_teste = train_test_split(x,y)\n",
    "# train_test_split(x,y, test_size=0.3) - define que somente serão utilizados 30% das linhas\n",
    "x_train, x_test, y_train, y_test = train_test_split(x,y)\n",
    "\n",
    "# PASSO 3.2 - treinar a IA\n",
    "# 2 FORMAS DE UTILIZAR:\n",
    "# ÁRVORE DE DECISÃO - RandomForest\n",
    "# VIZINHOS PRÓXIMOS (Nearest Neighboors) -> KNN\n",
    "# Importar a IA\n",
    "\n",
    "# Criar a IA\n",
    "modelo_arvoreDecisao = RandomForestClassifier()\n",
    "modelo_knn = KNeighborsClassifier()\n",
    "\n",
    "# treinar IA\n",
    "modelo_arvoreDecisao.fit(x_train, y_train)\n",
    "modelo_knn.fit(x_train,y_train)"
   ]
  },
  {
   "cell_type": "code",
   "execution_count": null,
   "metadata": {},
   "outputs": [],
   "source": [
    "# PASSO 4 - Avaliar qual o melhor modelo - botando a base de testes para ser lida novamente,\n",
    "# comparando os valores reais com os gerados pela IA.\n",
    "previsao_arvoreDecisao = modelo_arvoreDecisao.predict(x_test)\n",
    "previsao_knn = modelo_knn.predict(x_test)\n",
    "\n",
    "# calcular a acurácia\n",
    "\n",
    "display(accuracy_score(y_test, previsao_arvoreDecisao))\n",
    "display(accuracy_score(y_test, previsao_knn))"
   ]
  },
  {
   "cell_type": "code",
   "execution_count": null,
   "metadata": {},
   "outputs": [],
   "source": [
    "#PASSO 5 - NOVAS PREVISÕES\n",
    "\n",
    "tabela_novos_clientes = pd.read_csv(\"auxiliares/novos_clientes.csv\")\n",
    "display(tabela_novos_clientes)\n",
    "\n",
    "# Necessário alterar profissão, mix_credito e comportamento_pagamento para números\n",
    "tabela[\"profissao\"] = cod1.fit_transform(tabela[\"profissao\"])\n",
    "tabela[\"mix_credito\"] = cod2.fit_transform(tabela[\"mix_credito\"])\n",
    "tabela[\"comportamento_pagamento\"] = cod3.fit_transform(tabela[\"comportamento_pagamento\"])\n",
    "\n",
    "display(tabela_novos_clientes)\n",
    "\n",
    "previsao = modelo_arvoreDecisao.predict(tabela_novos_clientes)\n",
    "display(previsao)\n",
    "\n",
    "tabela_novos_clientes\n",
    "#picket - permite salvar os dados obtidos em um arquivo"
   ]
  }
 ],
 "metadata": {
  "kernelspec": {
   "display_name": "Python 3",
   "language": "python",
   "name": "python3"
  },
  "language_info": {
   "codemirror_mode": {
    "name": "ipython",
    "version": 3
   },
   "file_extension": ".py",
   "mimetype": "text/x-python",
   "name": "python",
   "nbconvert_exporter": "python",
   "pygments_lexer": "ipython3",
   "version": "3.11.9"
  },
  "orig_nbformat": 4
 },
 "nbformat": 4,
 "nbformat_minor": 2
}
