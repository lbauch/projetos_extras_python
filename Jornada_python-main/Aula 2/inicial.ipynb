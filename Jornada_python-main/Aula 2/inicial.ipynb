{
 "cells": [
  {
   "cell_type": "markdown",
   "metadata": {},
   "source": [
    "# Python Insights - Analisando Dados com Python\n",
    "\n",
    "### Case - Cancelamento de Clientes\n",
    "\n",
    "Você foi contratado por uma empresa com mais de 800 mil clientes para um projeto de Dados. Recentemente a empresa percebeu que da sua base total de clientes, a maioria são clientes inativos, ou seja, que já cancelaram o serviço.\n",
    "\n",
    "Precisando melhorar seus resultados ela quer conseguir entender os principais motivos desses cancelamentos e quais as ações mais eficientes para reduzir esse número.\n",
    "\n",
    "Base de dados e arquivos: https://drive.google.com/drive/folders/1uDesZePdkhiraJmiyeZ-w5tfc8XsNYFZ?usp=drive_link"
   ]
  },
  {
   "cell_type": "code",
   "execution_count": null,
   "metadata": {},
   "outputs": [],
   "source": [
    "#Passo 1: IMPORTAR BASE DE DADOS\n",
    "#!pip install pandas numpy openpyxl nbformat ipykernel plotly\n",
    "\n",
    "import pandas as pd\n",
    "\n",
    "tabela = pd.read_csv(\"auxiliares/cancelamentos_sample.csv\")\n",
    "#display(tabela)\n",
    "\n",
    "#---------------------------------#\n",
    "\n",
    "#Passo 2: visualizar a base de dados\n",
    "    #entender quais infos tenho disponíveis\n",
    "    #procurar os problemas da base de dados (valores errados, colunas e linhas vazias)\n",
    "display(tabela)\n",
    "display(tabela.info())\n",
    "\n",
    "#---------------------------------#\n",
    "\n",
    "#Passo 3: corrigir os erros acima\n",
    "#3.1 - Colunas inúteis - Info que não ajuda, atrapalha.\n",
    "tabela = tabela.drop(columns=\"CustomerID\")\n",
    "#display(tabela)\n",
    "\n",
    "#3.2 - Informações Vazias ou no formato errado.\n",
    "tabela = tabela.dropna() #Remove todas linhas que possuem valores vazios. (#NAN)\n",
    "\n",
    "#3.3 - Remover informações duplicadas\n",
    "#tabela = tabela.drop_duplicates()\n",
    "display(tabela.info())\n"
   ]
  },
  {
   "cell_type": "code",
   "execution_count": null,
   "metadata": {},
   "outputs": [],
   "source": [
    "#Passo 4: análise dos cancelamentos (quantos cancelara, quantos não e percentual)\n",
    "#lista entre colchetes - tabela[\"cliente\", \"nome\"] - apenas para exemplo\n",
    "#tabela[\"cancelou\"].min()\n",
    "#tabela[\"cancelou\"].sum()\n",
    "#tabela[\"cancelou\"].max()\n",
    "display(tabela[\"cancelou\"].value_counts())\n",
    "#exibir em percentual: - normalizado = percentual\n",
    "display(tabela[\"cancelou\"].value_counts(normalize=True).map(\"{:.1%}\".format))"
   ]
  },
  {
   "cell_type": "code",
   "execution_count": null,
   "metadata": {},
   "outputs": [],
   "source": [
    "#Passo 5: buscar causas dos cancelamentos- - como as colunas impactam no cancelamento\n",
    "\n",
    "import plotly.express as px\n",
    "\n",
    "#dividido em 2 etapas:\n",
    "#criar os gráficos\n",
    "#exibir os gráficos\n",
    "\n",
    "#criar\n",
    "#grafico = px.histogram(tabela, x=\"duracao_contrato\", color=\"cancelou\", text_auto=True)\n",
    "#grafico = px.histogram(tabela, x=\"idade\", color=\"cancelou\", text_auto=True)\n",
    "#grafico = px.histogram(tabela, x=\"dias_atraso\", color=\"cancelou\", text_auto=True)\n",
    "#para cada coluna, quero criar e exibir o gráfico\n",
    "for coluna in tabela.columns:\n",
    "    #x define o eixo x.\n",
    "    grafico = px.histogram(tabela, x=coluna, color=\"cancelou\", text_auto=True)\n",
    "    grafico.show()\n",
    "#show é utilizado para imagem. Display para texto.\n",
    "#para mais detalhes, procurar por histograms in python\n",
    "#melhor utilizar mais gráficos simples doque menos gráficos completos\n"
   ]
  },
  {
   "cell_type": "code",
   "execution_count": null,
   "metadata": {},
   "outputs": [],
   "source": [
    "#PASSO 6 - tratar os dados\n",
    "\n",
    "#causas de cancelamento\n",
    "\n",
    "#todos os clientes de contrato mensal, cancelaram.\n",
    "    #dar descontos nos contratos anuais e trimestrais\n",
    "#todos os clientes com mais de 20 dias cancelaram o serviço\n",
    "    #criar um sistema de cobrança dos clientes com mais de 10 dias\n",
    "#Todos os clientes que ligaram mais de 4 vezes para o call center cancelaram\n",
    "    #criar alerta para clientes que ligaram mais de 2x para o call center\n",
    "\n",
    "#analisar se, resolvendo estes problemas, quanto cai o cancelamento?\n",
    "\n",
    "#duração do contrato não pode ser mensal\n",
    "tabela = tabela[tabela[\"duracao_contrato\"] != \"Monthly\"]\n",
    "tabela = tabela[tabela[\"dias_atraso\"] <= 20]\n",
    "tabela = tabela[tabela[\"ligacoes_callcenter\"] <= 4]\n",
    "display(tabela[\"cancelou\"].value_counts(normalize=True).map(\"{:.1%}\".format))\n",
    "\n",
    "#atrasos só podem ser de até 20 dias\n",
    "#ligações no call center só podem ser até 4 ligações"
   ]
  }
 ],
 "metadata": {
  "kernelspec": {
   "display_name": "Python 3",
   "language": "python",
   "name": "python3"
  },
  "language_info": {
   "codemirror_mode": {
    "name": "ipython",
    "version": 3
   },
   "file_extension": ".py",
   "mimetype": "text/x-python",
   "name": "python",
   "nbconvert_exporter": "python",
   "pygments_lexer": "ipython3",
   "version": "3.12.7"
  },
  "orig_nbformat": 4
 },
 "nbformat": 4,
 "nbformat_minor": 2
}
